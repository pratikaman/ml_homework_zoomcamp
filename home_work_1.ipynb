{
 "cells": [
  {
   "cell_type": "code",
   "execution_count": 4,
   "id": "78158b14-c12d-4e94-9d99-ed739a5bc665",
   "metadata": {},
   "outputs": [],
   "source": [
    "import pandas as pd\n",
    "import numpy as np"
   ]
  },
  {
   "cell_type": "markdown",
   "id": "164a0c20-9a76-4563-930c-e0035254038c",
   "metadata": {},
   "source": [
    "----------------- Question 1 --------------------------"
   ]
  },
  {
   "cell_type": "code",
   "execution_count": 5,
   "id": "98043d97-889d-40ba-99f6-e9b6f7d4bd33",
   "metadata": {},
   "outputs": [
    {
     "data": {
      "text/plain": [
       "'2.1.0'"
      ]
     },
     "execution_count": 5,
     "metadata": {},
     "output_type": "execute_result"
    }
   ],
   "source": [
    "pd.__version__"
   ]
  },
  {
   "cell_type": "code",
   "execution_count": 6,
   "id": "1127f3aa-7878-41b2-ba9a-e4f33be8d8c4",
   "metadata": {},
   "outputs": [],
   "source": [
    "df = pd.read_csv('datasets_master_housing.csv')"
   ]
  },
  {
   "cell_type": "markdown",
   "id": "b6816b16-9fd6-4171-9dd3-55895b893cf2",
   "metadata": {},
   "source": [
    "----------------- Question 2 ---------------------------"
   ]
  },
  {
   "cell_type": "code",
   "execution_count": 7,
   "id": "aef6fad3-982c-4e84-bc5e-84792eb4db9f",
   "metadata": {},
   "outputs": [
    {
     "name": "stdout",
     "output_type": "stream",
     "text": [
      "longitude             20640\n",
      "latitude              20640\n",
      "housing_median_age    20640\n",
      "total_rooms           20640\n",
      "total_bedrooms        20433\n",
      "population            20640\n",
      "households            20640\n",
      "median_income         20640\n",
      "median_house_value    20640\n",
      "ocean_proximity       20640\n",
      "dtype: int64\n"
     ]
    }
   ],
   "source": [
    "print(df.count())"
   ]
  },
  {
   "cell_type": "markdown",
   "id": "44f5db20-5a6b-4de4-a0b6-3b98c147122a",
   "metadata": {},
   "source": [
    "------------------------- Question 3 -------------------------"
   ]
  },
  {
   "cell_type": "code",
   "execution_count": 8,
   "id": "ef03f17e-8cdf-45eb-90db-bff3733d4a74",
   "metadata": {},
   "outputs": [
    {
     "name": "stdout",
     "output_type": "stream",
     "text": [
      "0\n"
     ]
    }
   ],
   "source": [
    "print(df['total_rooms'].isnull().sum())"
   ]
  },
  {
   "cell_type": "code",
   "execution_count": 9,
   "id": "5e8dbed4-ea93-49f6-b264-fa42b5e551f6",
   "metadata": {},
   "outputs": [
    {
     "name": "stdout",
     "output_type": "stream",
     "text": [
      "207\n"
     ]
    }
   ],
   "source": [
    "print(df['total_bedrooms'].isnull().sum())"
   ]
  },
  {
   "cell_type": "markdown",
   "id": "28a5ad44-4d21-4972-973c-b003c0c64458",
   "metadata": {},
   "source": [
    "------------------------- Question 4 --------------------------"
   ]
  },
  {
   "cell_type": "code",
   "execution_count": 10,
   "id": "53f93728-0e5f-43d1-ad51-bd0432d4b8b9",
   "metadata": {},
   "outputs": [
    {
     "name": "stdout",
     "output_type": "stream",
     "text": [
      "5\n"
     ]
    }
   ],
   "source": [
    "print(df['ocean_proximity'].nunique())"
   ]
  },
  {
   "cell_type": "markdown",
   "id": "43c8bf80-2e67-4d75-919c-62a07752f80a",
   "metadata": {},
   "source": [
    "------------------------- Question 5 ---------------------------"
   ]
  },
  {
   "cell_type": "code",
   "execution_count": 11,
   "id": "87aaa5f6-3d51-4693-9a69-99136aec954c",
   "metadata": {},
   "outputs": [
    {
     "name": "stdout",
     "output_type": "stream",
     "text": [
      "259212.31179039303\n"
     ]
    }
   ],
   "source": [
    "df2 = df.loc[df['ocean_proximity'] == 'NEAR BAY']\n",
    "print(df2['median_house_value'].mean())"
   ]
  },
  {
   "cell_type": "markdown",
   "id": "d997b915-2299-4f97-941a-3b465907b1d7",
   "metadata": {},
   "source": [
    "------------------------- Question 6 ---------------------------"
   ]
  },
  {
   "cell_type": "code",
   "execution_count": 12,
   "id": "f0fd20d7-2ccf-4d75-b2af-7d2b2f5675e4",
   "metadata": {},
   "outputs": [
    {
     "name": "stdout",
     "output_type": "stream",
     "text": [
      "537.8705525375618\n",
      "537.8705525375617\n"
     ]
    }
   ],
   "source": [
    "mean_value_total_bedrooms = df['total_bedrooms'].mean()\n",
    "print(mean_value_total_bedrooms)\n",
    "\n",
    "df3 = df['total_bedrooms'].fillna(mean_value_total_bedrooms)\n",
    "new_mean_value_total_bedrooms = df3.mean()\n",
    "print(new_mean_value_total_bedrooms)"
   ]
  },
  {
   "cell_type": "markdown",
   "id": "11a3caa9-3096-474b-99f4-761e4043de9a",
   "metadata": {},
   "source": [
    "------------------------- Question 7 ----------------------------"
   ]
  },
  {
   "cell_type": "code",
   "execution_count": 13,
   "id": "6ca618fa-1d58-4257-8dfd-ff41ea81c157",
   "metadata": {},
   "outputs": [
    {
     "name": "stdout",
     "output_type": "stream",
     "text": [
      "5.699229455065565\n"
     ]
    }
   ],
   "source": [
    "df4 = df.loc[df['ocean_proximity'] == 'ISLAND']\n",
    "\n",
    "df5 = df4[['housing_median_age','total_rooms','total_bedrooms']]\n",
    "\n",
    "\n",
    "X = df5.to_numpy()\n",
    "XT = X.T\n",
    "XTX = np.matmul(XT, X)\n",
    "\n",
    "XTX_inv = np.linalg.inv(XTX)\n",
    "y = [950, 1300, 800, 1000, 1300]\n",
    "\n",
    "w = np.matmul(np.matmul(XTX_inv, XT), y)\n",
    "\n",
    "print(w[-1])"
   ]
  },
  {
   "cell_type": "code",
   "execution_count": null,
   "id": "77d927eb-1975-44e9-9d11-e0701b9119ba",
   "metadata": {},
   "outputs": [],
   "source": []
  }
 ],
 "metadata": {
  "kernelspec": {
   "display_name": "Python 3 (ipykernel)",
   "language": "python",
   "name": "python3"
  },
  "language_info": {
   "codemirror_mode": {
    "name": "ipython",
    "version": 3
   },
   "file_extension": ".py",
   "mimetype": "text/x-python",
   "name": "python",
   "nbconvert_exporter": "python",
   "pygments_lexer": "ipython3",
   "version": "3.10.10"
  }
 },
 "nbformat": 4,
 "nbformat_minor": 5
}
